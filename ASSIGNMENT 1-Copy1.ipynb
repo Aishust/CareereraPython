{
 "cells": [
  {
   "cell_type": "code",
   "execution_count": 1,
   "id": "e9a0cc88",
   "metadata": {},
   "outputs": [
    {
     "name": "stdout",
     "output_type": "stream",
     "text": [
      "Welcome to Assignment-1\n"
     ]
    }
   ],
   "source": [
    "print(\"Welcome to Assignment-1\")"
   ]
  },
  {
   "cell_type": "code",
   "execution_count": 2,
   "id": "93d5855b",
   "metadata": {},
   "outputs": [],
   "source": [
    "Num1=10\n",
    "Num2=30\n",
    "Add=40"
   ]
  },
  {
   "cell_type": "code",
   "execution_count": 3,
   "id": "c4b35a6e",
   "metadata": {},
   "outputs": [
    {
     "name": "stdout",
     "output_type": "stream",
     "text": [
      "Num1=  10\n",
      "Num2=  30\n",
      "Add=  40\n"
     ]
    }
   ],
   "source": [
    "print(\"Num1= \",Num1)\n",
    "print(\"Num2= \",Num2)\n",
    "print(\"Add= \",Add)"
   ]
  },
  {
   "cell_type": "markdown",
   "id": "01f8e160",
   "metadata": {},
   "source": [
    "#Body Mass Index\n",
    "BMI Categories:\n",
    "Underweight = <18.5\n",
    "Normal weight = 18.5–24.9\n",
    "Overweight = 25–29.9\n",
    "Obesity = BMI of 30 or greater"
   ]
  },
  {
   "cell_type": "code",
   "execution_count": 4,
   "id": "ba1d3cdd",
   "metadata": {},
   "outputs": [
    {
     "name": "stdout",
     "output_type": "stream",
     "text": [
      "Enter the BMI index = 34\n",
      "Very Overweight\n"
     ]
    }
   ],
   "source": [
    "BMI = int(input(\"Enter the BMI index = \"))\n",
    "if (BMI<18.5):\n",
    "    print(\"Underweight\")\n",
    "elif (BMI<24.9):\n",
    "    print(\"Normal Weight\")\n",
    "elif (BMI<29.9):\n",
    "    print(\"Overweight\")\n",
    "else:\n",
    "    print(\"Very Overweight\")"
   ]
  },
  {
   "cell_type": "markdown",
   "id": "d2e6804e",
   "metadata": {},
   "source": [
    "# Extra assignment"
   ]
  },
  {
   "cell_type": "code",
   "execution_count": 5,
   "id": "50132ef8",
   "metadata": {},
   "outputs": [
    {
     "name": "stdout",
     "output_type": "stream",
     "text": [
      "HOPE AI\n"
     ]
    }
   ],
   "source": [
    "#print statement\n",
    "print(\"HOPE AI\")"
   ]
  },
  {
   "cell_type": "code",
   "execution_count": 6,
   "id": "40bd047b",
   "metadata": {},
   "outputs": [
    {
     "name": "stdout",
     "output_type": "stream",
     "text": [
      "Enter your institue name?:HOPE AI\n"
     ]
    }
   ],
   "source": [
    "#buy input\n",
    "name =input(\"Enter your institue name?:\")"
   ]
  },
  {
   "cell_type": "code",
   "execution_count": 7,
   "id": "251104e6",
   "metadata": {},
   "outputs": [
    {
     "name": "stdout",
     "output_type": "stream",
     "text": [
      "Enter your name: Raj\n",
      "Enter your age: 15\n",
      "Enter your school name: Guru school\n",
      "Enter your drgree: B.E CSE\n"
     ]
    }
   ],
   "source": [
    "bio1 =input(\"Enter your name: \")\n",
    "bio2 =input(\"Enter your age: \")\n",
    "bio3 =input(\"Enter your school name: \")\n",
    "bio4 =input(\"Enter your drgree: \")"
   ]
  },
  {
   "cell_type": "code",
   "execution_count": 8,
   "id": "3387690d",
   "metadata": {},
   "outputs": [
    {
     "name": "stdout",
     "output_type": "stream",
     "text": [
      "a=  43\n",
      "b=  34\n",
      "add=  77\n"
     ]
    }
   ],
   "source": [
    "#addition\n",
    "a=43\n",
    "b=34\n",
    "add=a+b\n",
    "print(\"a= \",a)\n",
    "print(\"b= \",b)\n",
    "print(\"add= \",add)\n"
   ]
  },
  {
   "cell_type": "code",
   "execution_count": 9,
   "id": "a53cf4be",
   "metadata": {},
   "outputs": [
    {
     "name": "stdout",
     "output_type": "stream",
     "text": [
      "a=  43\n",
      "b=  34\n",
      "sub=  9\n"
     ]
    }
   ],
   "source": [
    "#subtraction\n",
    "a=43\n",
    "b=34\n",
    "sub=a-b\n",
    "print(\"a= \",a)\n",
    "print(\"b= \",b)\n",
    "print(\"sub= \",sub)"
   ]
  },
  {
   "cell_type": "code",
   "execution_count": 10,
   "id": "29e725cd",
   "metadata": {},
   "outputs": [
    {
     "name": "stdout",
     "output_type": "stream",
     "text": [
      "a=  63\n",
      "b=  97\n",
      "Mul=  6111\n"
     ]
    }
   ],
   "source": [
    "#Multiplication\n",
    "a=63\n",
    "b=97\n",
    "Mul=a*b\n",
    "print(\"a= \",a)\n",
    "print(\"b= \",b)\n",
    "print(\"Mul= \",Mul)"
   ]
  },
  {
   "cell_type": "code",
   "execution_count": 11,
   "id": "df1cd292",
   "metadata": {},
   "outputs": [
    {
     "name": "stdout",
     "output_type": "stream",
     "text": [
      "a=  76\n",
      "b=  31\n",
      "Float Div=  2.4516129032258065\n"
     ]
    }
   ],
   "source": [
    "#Division = / returns only the quotient\n",
    "a=76\n",
    "b=31\n",
    "Div=a/b\n",
    "print(\"a= \",a)\n",
    "print(\"b= \",b)\n",
    "print(\"Float Div= \",Div)"
   ]
  },
  {
   "cell_type": "code",
   "execution_count": 12,
   "id": "d2e59294",
   "metadata": {},
   "outputs": [
    {
     "name": "stdout",
     "output_type": "stream",
     "text": [
      "a=  76\n",
      "b=  31\n",
      "Floor Div=  2\n"
     ]
    }
   ],
   "source": [
    "#Floor Division = //  returns the quotient as a floating-point number\n",
    "a=76\n",
    "b=31\n",
    "Div=a//b\n",
    "print(\"a= \",a)\n",
    "print(\"b= \",b)\n",
    "print(\"Floor Div= \",Div)"
   ]
  },
  {
   "cell_type": "code",
   "execution_count": 13,
   "id": "093a2c6c",
   "metadata": {},
   "outputs": [
    {
     "name": "stdout",
     "output_type": "stream",
     "text": [
      "a=  76\n",
      "b=  31\n",
      "Modulo=  14\n"
     ]
    }
   ],
   "source": [
    "#Modulo= % yields the remainder when the first operand is divided by the second\n",
    "a=76\n",
    "b=31\n",
    "Mod=a%b\n",
    "print(\"a= \",a)\n",
    "print(\"b= \",b)\n",
    "print(\"Modulo= \",Mod)"
   ]
  },
  {
   "cell_type": "code",
   "execution_count": 14,
   "id": "ddd0d3cc",
   "metadata": {},
   "outputs": [
    {
     "name": "stdout",
     "output_type": "stream",
     "text": [
      "a=  4\n",
      "b=  4\n",
      "Power=  256\n"
     ]
    }
   ],
   "source": [
    "#Power=  ** (Exponentiatio)allows you to calculate the power of a number\n",
    "a=4\n",
    "b=4\n",
    "Power=a**b\n",
    "print(\"a= \",a)\n",
    "print(\"b= \",b)\n",
    "print(\"Power= \",Power)"
   ]
  },
  {
   "cell_type": "code",
   "execution_count": 15,
   "id": "28712958",
   "metadata": {},
   "outputs": [
    {
     "name": "stdout",
     "output_type": "stream",
     "text": [
      "0\n",
      "1\n",
      "2\n",
      "3\n",
      "4\n",
      "5\n",
      "6\n",
      "7\n",
      "8\n",
      "9\n",
      "10\n",
      "11\n",
      "12\n",
      "13\n",
      "14\n",
      "15\n",
      "16\n",
      "17\n",
      "18\n",
      "19\n"
     ]
    }
   ],
   "source": [
    "#print 0 to 20 by using range\n",
    "for num in range(0,20):\n",
    "    print(num)"
   ]
  },
  {
   "cell_type": "code",
   "execution_count": 20,
   "id": "a5378d44",
   "metadata": {},
   "outputs": [
    {
     "name": "stdout",
     "output_type": "stream",
     "text": [
      "10\n",
      "11\n",
      "12\n",
      "13\n",
      "14\n",
      "15\n",
      "16\n",
      "17\n",
      "18\n",
      "19\n"
     ]
    }
   ],
   "source": [
    "#print range 10 to 20\n",
    "for num in range (10,20):\n",
    "    print(num)"
   ]
  },
  {
   "cell_type": "code",
   "execution_count": 16,
   "id": "be4c895a",
   "metadata": {},
   "outputs": [
    {
     "name": "stdout",
     "output_type": "stream",
     "text": [
      "10 11 12 13 14 15 16 17 18 19 \n"
     ]
    }
   ],
   "source": [
    "for num in range(10,20):\n",
    "    print(num, end=\" \")\n",
    "print()"
   ]
  },
  {
   "cell_type": "code",
   "execution_count": 17,
   "id": "936c49e3",
   "metadata": {},
   "outputs": [
    {
     "name": "stdout",
     "output_type": "stream",
     "text": [
      "[10,20,14,55,43,87,76]\n",
      "Number of items in the list2: \n",
      "7\n"
     ]
    }
   ],
   "source": [
    "#print number of items in the list by using 'len'\n",
    "list2 =[10,20,14,55,43,87,76]\n",
    "print(\"[10,20,14,55,43,87,76]\")\n",
    "print(\"Number of items in the list2: \")\n",
    "x=len(list2)\n",
    "print(x)"
   ]
  },
  {
   "cell_type": "code",
   "execution_count": 18,
   "id": "7f1f011e",
   "metadata": {},
   "outputs": [
    {
     "name": "stdout",
     "output_type": "stream",
     "text": [
      "Artificial Intelligence\n",
      "A\n",
      "r\n",
      "t\n",
      "i\n",
      "f\n",
      "i\n",
      "c\n",
      "i\n",
      "a\n",
      "l\n",
      " \n",
      "I\n",
      "n\n",
      "t\n",
      "e\n",
      "l\n",
      "l\n",
      "i\n",
      "g\n",
      "e\n",
      "n\n",
      "c\n",
      "e\n"
     ]
    }
   ],
   "source": [
    "#to print horizantal and vertical line\n",
    "job='Artificial Intelligence'\n",
    "print(job)\n",
    "for k in job:\n",
    "    print(k)"
   ]
  },
  {
   "cell_type": "code",
   "execution_count": 19,
   "id": "a43ef53e",
   "metadata": {},
   "outputs": [
    {
     "name": "stdout",
     "output_type": "stream",
     "text": [
      "-Your Name-\n",
      "-Your Age-\n",
      "-Your Profession-\n"
     ]
    }
   ],
   "source": [
    "print(\"-Your Name-\")\n",
    "print(\"-Your Age-\")\n",
    "print(\"-Your Profession-\")"
   ]
  },
  {
   "cell_type": "code",
   "execution_count": 20,
   "id": "ba8e8177",
   "metadata": {},
   "outputs": [
    {
     "name": "stdout",
     "output_type": "stream",
     "text": [
      "('1', 'Welcome', '2', 'Hope')\n"
     ]
    }
   ],
   "source": [
    "#print mixered data types using tuples\n",
    "tuple=(\"1\",\"Welcome\",\"2\",\"Hope\")\n",
    "print(tuple)"
   ]
  },
  {
   "cell_type": "code",
   "execution_count": 21,
   "id": "42035616",
   "metadata": {},
   "outputs": [
    {
     "name": "stdout",
     "output_type": "stream",
     "text": [
      "((0, 1, 2, 3), ('python', 'HOPE'))\n"
     ]
    }
   ],
   "source": [
    "# Code for creating nested tuples\n",
    "tuple1 = (0, 1, 2, 3)\n",
    "tuple2 = ('python', 'HOPE')\n",
    " \n",
    "tuple3 = (tuple1, tuple2)\n",
    "print(tuple3)"
   ]
  },
  {
   "cell_type": "code",
   "execution_count": 22,
   "id": "30d7e561",
   "metadata": {},
   "outputs": [
    {
     "name": "stdout",
     "output_type": "stream",
     "text": [
      "[20, 10, 16, 19, 25, 1, 276, 188]\n",
      "19 is odd\n",
      "25 is odd\n",
      "1 is odd\n"
     ]
    }
   ],
   "source": [
    "#print odd numbers in the list\n",
    "list1=[20,10,16,19,25,1,276,188]\n",
    "print(list1)\n",
    "for num in list1:\n",
    "     if num % 2 != 0:\n",
    "       print(num, \"is odd\")"
   ]
  },
  {
   "cell_type": "code",
   "execution_count": 23,
   "id": "9eb5bdda",
   "metadata": {},
   "outputs": [
    {
     "name": "stdout",
     "output_type": "stream",
     "text": [
      "[20, 10, 16, 19, 25, 1, 276, 188]\n",
      "20 is Even\n",
      "10 is Even\n",
      "16 is Even\n",
      "276 is Even\n",
      "188 is Even\n"
     ]
    }
   ],
   "source": [
    "#print even numbers in the list\n",
    "list1=[20,10,16,19,25,1,276,188]\n",
    "print(list1)\n",
    "for num in list1:\n",
    "     if num % 2 != 1:\n",
    "       print(num, \"is Even\")"
   ]
  },
  {
   "cell_type": "code",
   "execution_count": 24,
   "id": "5eae2b7d",
   "metadata": {},
   "outputs": [
    {
     "name": "stdout",
     "output_type": "stream",
     "text": [
      "Value: 10\n",
      "Correct\n"
     ]
    }
   ],
   "source": [
    "num=[1,2,3,4,5]\n",
    "for i in num:\n",
    "    if i*2==10:\n",
    "        print(f\"Value: {10}\\nCorrect\")"
   ]
  },
  {
   "cell_type": "code",
   "execution_count": 25,
   "id": "8e45857b",
   "metadata": {},
   "outputs": [
    {
     "name": "stdout",
     "output_type": "stream",
     "text": [
      "Enter the passoword: HOPE@123\n",
      "Your password is correct\n"
     ]
    }
   ],
   "source": [
    "pwd=input(\"Enter the passoword: \")\n",
    "if pwd==\"HOPE@123\":\n",
    "    print(\"Your password is correct\")\n",
    "else:\n",
    "    print(\"Your password is incorrect\")"
   ]
  },
  {
   "cell_type": "code",
   "execution_count": 26,
   "id": "c96eb0f5",
   "metadata": {},
   "outputs": [
    {
     "name": "stdout",
     "output_type": "stream",
     "text": [
      "Children\n",
      "Adult\n",
      "Adult\n",
      "Citizen\n",
      "Citizen\n",
      "Citizen\n",
      "Senior Citizen\n",
      "Senior Citizen\n",
      "Senior Citizen\n",
      "Senior Citizen\n"
     ]
    }
   ],
   "source": [
    "#category the people by their age\n",
    "Lists=[9,18,27,36,45,54,63,72,81,90]\n",
    "for age in Lists:\n",
    "    if (age<18):\n",
    "        print(\"Children\")\n",
    "    elif (age<30):\n",
    "        print (\"Adult\")\n",
    "    elif (age<60):\n",
    "        print (\"Citizen\")\n",
    "    else:\n",
    "        print (\"Senior Citizen\")"
   ]
  },
  {
   "cell_type": "code",
   "execution_count": 27,
   "id": "59e973b2",
   "metadata": {},
   "outputs": [],
   "source": [
    "Lists1=[9,18,27,36,45,54,63,72,81,90]\n",
    "for age in Lists1:\n",
    "    if age == 20:\n",
    "        print(f\"Age: {age}\\nAdult\")"
   ]
  },
  {
   "cell_type": "code",
   "execution_count": 28,
   "id": "6425b516",
   "metadata": {},
   "outputs": [
    {
     "name": "stdout",
     "output_type": "stream",
     "text": [
      "Children\n",
      "Adult\n",
      "Adult\n",
      "Adult\n",
      "Citizen\n",
      "Citizen\n",
      "Citizen\n",
      "Senior Citizen\n",
      "Senior Citizen\n",
      "Senior Citizen\n",
      "Senior Citizen\n",
      "Age: 20\n",
      "Adult\n"
     ]
    }
   ],
   "source": [
    "Lists=[9,18,20,27,36,45,54,63,72,81,90]\n",
    "for age in Lists:\n",
    "    if (age<18):\n",
    "        print(\"Children\")\n",
    "    elif (age<30):\n",
    "        print (\"Adult\")\n",
    "    elif (age<60):\n",
    "        print (\"Citizen\")\n",
    "    else:\n",
    "        print (\"Senior Citizen\")\n",
    "for age in Lists:\n",
    "    if age==20:\n",
    "         print(f\"Age: {age}\\nAdult\")"
   ]
  },
  {
   "cell_type": "code",
   "execution_count": 29,
   "id": "ce58d568",
   "metadata": {},
   "outputs": [
    {
     "name": "stdout",
     "output_type": "stream",
     "text": [
      "Enter any number: 1\n",
      "No is positive\n"
     ]
    }
   ],
   "source": [
    "# find whether given num is positive or negative\n",
    "num=int(input(\"Enter any number: \"))\n",
    "if num>0:\n",
    "    print(\"No is positive\")\n",
    "else:\n",
    "    print(\"No is negative\")"
   ]
  },
  {
   "cell_type": "code",
   "execution_count": 30,
   "id": "52986b92",
   "metadata": {},
   "outputs": [
    {
     "name": "stdout",
     "output_type": "stream",
     "text": [
      "Enter a number to check: 22\n",
      "No is not divisible by 5\n"
     ]
    }
   ],
   "source": [
    "# find whether num divisible by 5\n",
    "num=int(input(\"Enter a number to check: \"))\n",
    "if num/5==0:\n",
    "    print(\"No is divisible by 5\")\n",
    "else:\n",
    "    print(\"No is not divisible by 5\")"
   ]
  },
  {
   "cell_type": "code",
   "execution_count": null,
   "id": "687b037a",
   "metadata": {},
   "outputs": [],
   "source": []
  }
 ],
 "metadata": {
  "kernelspec": {
   "display_name": "Python 3 (ipykernel)",
   "language": "python",
   "name": "python3"
  },
  "language_info": {
   "codemirror_mode": {
    "name": "ipython",
    "version": 3
   },
   "file_extension": ".py",
   "mimetype": "text/x-python",
   "name": "python",
   "nbconvert_exporter": "python",
   "pygments_lexer": "ipython3",
   "version": "3.9.7"
  }
 },
 "nbformat": 4,
 "nbformat_minor": 5
}
