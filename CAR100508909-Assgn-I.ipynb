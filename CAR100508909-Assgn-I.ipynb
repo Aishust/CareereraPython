{
 "cells": [
  {
   "cell_type": "markdown",
   "id": "90ec2c34",
   "metadata": {},
   "source": [
    "1. Which of the following defines a variable in Python?"
   ]
  },
  {
   "cell_type": "markdown",
   "id": "6d0dc798",
   "metadata": {},
   "source": [
    "Var name = “Steve”, String name = “Steve”, Name = “Steve” - All the following defines variables"
   ]
  },
  {
   "cell_type": "markdown",
   "id": "b7ecf37e",
   "metadata": {},
   "source": [
    "2. How to get the type of following variable (i=10)?"
   ]
  },
  {
   "cell_type": "code",
   "execution_count": 3,
   "id": "1a0e00a0",
   "metadata": {},
   "outputs": [],
   "source": [
    "i=10"
   ]
  },
  {
   "cell_type": "code",
   "execution_count": 4,
   "id": "24fca339",
   "metadata": {},
   "outputs": [
    {
     "data": {
      "text/plain": [
       "int"
      ]
     },
     "execution_count": 4,
     "metadata": {},
     "output_type": "execute_result"
    }
   ],
   "source": [
    "type(i)"
   ]
  },
  {
   "cell_type": "markdown",
   "id": "993f0eda",
   "metadata": {},
   "source": [
    "3. What is the output of the following code?"
   ]
  },
  {
   "cell_type": "code",
   "execution_count": 5,
   "id": "677e7474",
   "metadata": {},
   "outputs": [],
   "source": [
    "S1 = {1,2,3,4}"
   ]
  },
  {
   "cell_type": "code",
   "execution_count": 6,
   "id": "3d3f4a26",
   "metadata": {},
   "outputs": [],
   "source": [
    "S2 = {4,5,6,7}"
   ]
  },
  {
   "cell_type": "code",
   "execution_count": 7,
   "id": "4137179a",
   "metadata": {},
   "outputs": [
    {
     "name": "stdout",
     "output_type": "stream",
     "text": [
      "{4}\n"
     ]
    }
   ],
   "source": [
    "print (S1&S2)"
   ]
  },
  {
   "cell_type": "markdown",
   "id": "73549e34",
   "metadata": {},
   "source": [
    "4. What will be the output of the following code"
   ]
  },
  {
   "cell_type": "code",
   "execution_count": 8,
   "id": "422b0c71",
   "metadata": {},
   "outputs": [],
   "source": [
    "x = 100"
   ]
  },
  {
   "cell_type": "code",
   "execution_count": 9,
   "id": "6588488a",
   "metadata": {},
   "outputs": [
    {
     "data": {
      "text/plain": [
       "int"
      ]
     },
     "execution_count": 9,
     "metadata": {},
     "output_type": "execute_result"
    }
   ],
   "source": [
    "type(x)"
   ]
  },
  {
   "cell_type": "markdown",
   "id": "de0d7769",
   "metadata": {},
   "source": [
    "5. What  is the difference between append and extend in lists in Python?"
   ]
  },
  {
   "cell_type": "code",
   "execution_count": 25,
   "id": "548a5a77",
   "metadata": {},
   "outputs": [],
   "source": [
    "x = [1,2,3,4,5]"
   ]
  },
  {
   "cell_type": "code",
   "execution_count": 26,
   "id": "b5b8a213",
   "metadata": {},
   "outputs": [
    {
     "data": {
      "text/plain": [
       "[1, 2, 3, 4, 5]"
      ]
     },
     "execution_count": 26,
     "metadata": {},
     "output_type": "execute_result"
    }
   ],
   "source": [
    "x"
   ]
  },
  {
   "cell_type": "code",
   "execution_count": 28,
   "id": "24ae8396",
   "metadata": {},
   "outputs": [],
   "source": [
    "x.append(9)"
   ]
  },
  {
   "cell_type": "code",
   "execution_count": 29,
   "id": "9b33a5a9",
   "metadata": {},
   "outputs": [
    {
     "data": {
      "text/plain": [
       "[1, 2, 3, 4, 5, 9, 9]"
      ]
     },
     "execution_count": 29,
     "metadata": {},
     "output_type": "execute_result"
    }
   ],
   "source": [
    "x"
   ]
  },
  {
   "cell_type": "code",
   "execution_count": 31,
   "id": "3bb952bc",
   "metadata": {},
   "outputs": [],
   "source": [
    "y = [36,35,39]"
   ]
  },
  {
   "cell_type": "code",
   "execution_count": 32,
   "id": "f3b63307",
   "metadata": {},
   "outputs": [
    {
     "data": {
      "text/plain": [
       "[36, 35, 39]"
      ]
     },
     "execution_count": 32,
     "metadata": {},
     "output_type": "execute_result"
    }
   ],
   "source": [
    "y"
   ]
  },
  {
   "cell_type": "code",
   "execution_count": 33,
   "id": "d16b8d36",
   "metadata": {},
   "outputs": [],
   "source": [
    "x.extend(y)"
   ]
  },
  {
   "cell_type": "code",
   "execution_count": 34,
   "id": "997a5d1c",
   "metadata": {},
   "outputs": [
    {
     "data": {
      "text/plain": [
       "[1, 2, 3, 4, 5, 9, 9, 36, 35, 39]"
      ]
     },
     "execution_count": 34,
     "metadata": {},
     "output_type": "execute_result"
    }
   ],
   "source": [
    "x"
   ]
  },
  {
   "cell_type": "markdown",
   "id": "7615f2e8",
   "metadata": {},
   "source": [
    "append x = [1, 2, 3, 4, 5, 9, 9] add an element at the end of the list.\n",
    "extend x = [1, 2, 3, 4, 5, 9, 9, 36, 35, 39] merge two variable, the second variable will be add at the end of first variable."
   ]
  },
  {
   "cell_type": "markdown",
   "id": "3901de23",
   "metadata": {},
   "source": [
    "6. What does del do in Python?"
   ]
  },
  {
   "cell_type": "code",
   "execution_count": 35,
   "id": "323a7d91",
   "metadata": {},
   "outputs": [],
   "source": [
    "## del will delete the content/ variables within the list or cell"
   ]
  },
  {
   "cell_type": "markdown",
   "id": "43c8f315",
   "metadata": {},
   "source": [
    "7. Which function do we use in order to find the position of an element in the list?"
   ]
  },
  {
   "cell_type": "code",
   "execution_count": 36,
   "id": "ef456537",
   "metadata": {},
   "outputs": [
    {
     "data": {
      "text/plain": [
       "[1, 2, 3, 4, 5, 9, 9, 36, 35, 39]"
      ]
     },
     "execution_count": 36,
     "metadata": {},
     "output_type": "execute_result"
    }
   ],
   "source": [
    "x"
   ]
  },
  {
   "cell_type": "code",
   "execution_count": 37,
   "id": "c20c39ee",
   "metadata": {},
   "outputs": [
    {
     "data": {
      "text/plain": [
       "7"
      ]
     },
     "execution_count": 37,
     "metadata": {},
     "output_type": "execute_result"
    }
   ],
   "source": [
    "x.index(36)"
   ]
  },
  {
   "cell_type": "markdown",
   "id": "4051a01c",
   "metadata": {},
   "source": [
    "8. How to find the total number of elements present in a list?"
   ]
  },
  {
   "cell_type": "code",
   "execution_count": 44,
   "id": "61b3eab5",
   "metadata": {},
   "outputs": [
    {
     "data": {
      "text/plain": [
       "[1, 2, 3, 4, 5, 9, 9, 36, 35, 39]"
      ]
     },
     "execution_count": 44,
     "metadata": {},
     "output_type": "execute_result"
    }
   ],
   "source": [
    "x"
   ]
  },
  {
   "cell_type": "code",
   "execution_count": 45,
   "id": "74b1e4d4",
   "metadata": {},
   "outputs": [
    {
     "data": {
      "text/plain": [
       "10"
      ]
     },
     "execution_count": 45,
     "metadata": {},
     "output_type": "execute_result"
    }
   ],
   "source": [
    "len(x)"
   ]
  },
  {
   "cell_type": "markdown",
   "id": "78b9b75f",
   "metadata": {},
   "source": [
    "9. Create a list of 10 elements and write a code on that list that returns every second element in that list as an output"
   ]
  },
  {
   "cell_type": "code",
   "execution_count": 65,
   "id": "e684745c",
   "metadata": {},
   "outputs": [],
   "source": [
    "a=[1,2,3,4,5,6,7,8,9,10]"
   ]
  },
  {
   "cell_type": "code",
   "execution_count": 66,
   "id": "4df85ad2",
   "metadata": {},
   "outputs": [
    {
     "data": {
      "text/plain": [
       "[1, 2, 3, 4, 5, 6, 7, 8, 9, 10]"
      ]
     },
     "execution_count": 66,
     "metadata": {},
     "output_type": "execute_result"
    }
   ],
   "source": [
    "a"
   ]
  },
  {
   "cell_type": "code",
   "execution_count": 67,
   "id": "3a44b657",
   "metadata": {},
   "outputs": [
    {
     "name": "stdout",
     "output_type": "stream",
     "text": [
      "0\n",
      "2\n",
      "4\n",
      "6\n",
      "8\n",
      "10\n"
     ]
    }
   ],
   "source": [
    "for i in range(12):\n",
    "    if i%2==0:\n",
    "        print(i)"
   ]
  },
  {
   "cell_type": "markdown",
   "id": "276fd766",
   "metadata": {},
   "source": [
    "10. Create a list of 10 elements and then sort the list in descending order"
   ]
  },
  {
   "cell_type": "code",
   "execution_count": 68,
   "id": "411431a7",
   "metadata": {},
   "outputs": [],
   "source": [
    "b=[5,10,15,20,25,30,35,40,45,50]"
   ]
  },
  {
   "cell_type": "code",
   "execution_count": 69,
   "id": "d397f1f7",
   "metadata": {},
   "outputs": [
    {
     "data": {
      "text/plain": [
       "[5, 10, 15, 20, 25, 30, 35, 40, 45, 50]"
      ]
     },
     "execution_count": 69,
     "metadata": {},
     "output_type": "execute_result"
    }
   ],
   "source": [
    "b"
   ]
  },
  {
   "cell_type": "code",
   "execution_count": 70,
   "id": "4d436180",
   "metadata": {},
   "outputs": [],
   "source": [
    "b.reverse()"
   ]
  },
  {
   "cell_type": "code",
   "execution_count": 71,
   "id": "031d6a29",
   "metadata": {},
   "outputs": [
    {
     "data": {
      "text/plain": [
       "[50, 45, 40, 35, 30, 25, 20, 15, 10, 5]"
      ]
     },
     "execution_count": 71,
     "metadata": {},
     "output_type": "execute_result"
    }
   ],
   "source": [
    "b"
   ]
  },
  {
   "cell_type": "markdown",
   "id": "d8ede79f",
   "metadata": {},
   "source": [
    "11. What is the difference between positive indexing and negative indexing in Python?"
   ]
  },
  {
   "cell_type": "code",
   "execution_count": null,
   "id": "45b9b017",
   "metadata": {},
   "outputs": [],
   "source": [
    "Confused with answers from google"
   ]
  },
  {
   "cell_type": "markdown",
   "id": "5f11c9a2",
   "metadata": {},
   "source": [
    "12. Create a tuple of some five elements and then write a program to add a value to the tuple"
   ]
  },
  {
   "cell_type": "code",
   "execution_count": 72,
   "id": "89499be5",
   "metadata": {},
   "outputs": [],
   "source": [
    "a=(5, 10, 15, 20, 25)"
   ]
  },
  {
   "cell_type": "code",
   "execution_count": 73,
   "id": "7dce1da7",
   "metadata": {},
   "outputs": [
    {
     "data": {
      "text/plain": [
       "(5, 10, 15, 20, 25)"
      ]
     },
     "execution_count": 73,
     "metadata": {},
     "output_type": "execute_result"
    }
   ],
   "source": [
    "a"
   ]
  },
  {
   "cell_type": "code",
   "execution_count": 74,
   "id": "3340bfaa",
   "metadata": {},
   "outputs": [],
   "source": [
    "tuple=list(a)"
   ]
  },
  {
   "cell_type": "code",
   "execution_count": 75,
   "id": "fcf907d4",
   "metadata": {},
   "outputs": [
    {
     "data": {
      "text/plain": [
       "[5, 10, 15, 20, 25]"
      ]
     },
     "execution_count": 75,
     "metadata": {},
     "output_type": "execute_result"
    }
   ],
   "source": [
    "tuple"
   ]
  },
  {
   "cell_type": "code",
   "execution_count": 76,
   "id": "b45190aa",
   "metadata": {},
   "outputs": [],
   "source": [
    "tuple.append(30)"
   ]
  },
  {
   "cell_type": "code",
   "execution_count": 77,
   "id": "0498f637",
   "metadata": {},
   "outputs": [
    {
     "data": {
      "text/plain": [
       "[5, 10, 15, 20, 25, 30]"
      ]
     },
     "execution_count": 77,
     "metadata": {},
     "output_type": "execute_result"
    }
   ],
   "source": [
    "tuple"
   ]
  },
  {
   "cell_type": "markdown",
   "id": "b9b20c0c",
   "metadata": {},
   "source": [
    "13. What is the difference between (difference, difference_update) and (symmetric_difference, symmetric_difference_update) in Python?"
   ]
  },
  {
   "cell_type": "markdown",
   "id": "a7de89f1",
   "metadata": {},
   "source": [
    "# difference"
   ]
  },
  {
   "cell_type": "code",
   "execution_count": 78,
   "id": "d0e371fc",
   "metadata": {},
   "outputs": [],
   "source": [
    "p_1 = {1,2,3,4,5,6}"
   ]
  },
  {
   "cell_type": "code",
   "execution_count": 79,
   "id": "011434b2",
   "metadata": {},
   "outputs": [],
   "source": [
    "p_2= {7,8,9,10,11,12,13}"
   ]
  },
  {
   "cell_type": "code",
   "execution_count": 81,
   "id": "d8865ce4",
   "metadata": {},
   "outputs": [
    {
     "data": {
      "text/plain": [
       "{1, 2, 3, 4, 5, 6}"
      ]
     },
     "execution_count": 81,
     "metadata": {},
     "output_type": "execute_result"
    }
   ],
   "source": [
    "p_1. difference(p_2)"
   ]
  },
  {
   "cell_type": "code",
   "execution_count": 82,
   "id": "b1971357",
   "metadata": {},
   "outputs": [
    {
     "data": {
      "text/plain": [
       "{7, 8, 9, 10, 11, 12, 13}"
      ]
     },
     "execution_count": 82,
     "metadata": {},
     "output_type": "execute_result"
    }
   ],
   "source": [
    "p_2. difference(p_1)"
   ]
  },
  {
   "cell_type": "markdown",
   "id": "c3d343e8",
   "metadata": {},
   "source": [
    "# difference_update"
   ]
  },
  {
   "cell_type": "code",
   "execution_count": 85,
   "id": "ffb36ea7",
   "metadata": {},
   "outputs": [],
   "source": [
    "p1={1,2,3,4,5,6}"
   ]
  },
  {
   "cell_type": "code",
   "execution_count": 86,
   "id": "daa92233",
   "metadata": {},
   "outputs": [],
   "source": [
    "p2={4,2,6,9,10}"
   ]
  },
  {
   "cell_type": "code",
   "execution_count": 87,
   "id": "0f8be637",
   "metadata": {},
   "outputs": [
    {
     "data": {
      "text/plain": [
       "{1, 2, 3, 4, 5, 6}"
      ]
     },
     "execution_count": 87,
     "metadata": {},
     "output_type": "execute_result"
    }
   ],
   "source": [
    "p1"
   ]
  },
  {
   "cell_type": "code",
   "execution_count": 88,
   "id": "803f09a2",
   "metadata": {},
   "outputs": [
    {
     "data": {
      "text/plain": [
       "{2, 4, 6, 9, 10}"
      ]
     },
     "execution_count": 88,
     "metadata": {},
     "output_type": "execute_result"
    }
   ],
   "source": [
    "p2"
   ]
  },
  {
   "cell_type": "code",
   "execution_count": 89,
   "id": "91d187ce",
   "metadata": {},
   "outputs": [],
   "source": [
    "p1.difference_update(p2)"
   ]
  },
  {
   "cell_type": "code",
   "execution_count": 90,
   "id": "565c86cc",
   "metadata": {},
   "outputs": [
    {
     "data": {
      "text/plain": [
       "{1, 3, 5}"
      ]
     },
     "execution_count": 90,
     "metadata": {},
     "output_type": "execute_result"
    }
   ],
   "source": [
    "p1"
   ]
  },
  {
   "cell_type": "markdown",
   "id": "8e041159",
   "metadata": {},
   "source": [
    "# intersection"
   ]
  },
  {
   "cell_type": "code",
   "execution_count": 94,
   "id": "06b1b745",
   "metadata": {},
   "outputs": [],
   "source": [
    "p1 = {1,2,3,4,5}"
   ]
  },
  {
   "cell_type": "code",
   "execution_count": 96,
   "id": "5b4ba4ac",
   "metadata": {},
   "outputs": [
    {
     "data": {
      "text/plain": [
       "{1, 2, 3, 4, 5}"
      ]
     },
     "execution_count": 96,
     "metadata": {},
     "output_type": "execute_result"
    }
   ],
   "source": [
    "p1"
   ]
  },
  {
   "cell_type": "code",
   "execution_count": 95,
   "id": "b1c776a8",
   "metadata": {},
   "outputs": [
    {
     "data": {
      "text/plain": [
       "{2, 4, 6, 9, 10}"
      ]
     },
     "execution_count": 95,
     "metadata": {},
     "output_type": "execute_result"
    }
   ],
   "source": [
    "p2"
   ]
  },
  {
   "cell_type": "code",
   "execution_count": 97,
   "id": "22c7d5c0",
   "metadata": {},
   "outputs": [
    {
     "data": {
      "text/plain": [
       "{2, 4}"
      ]
     },
     "execution_count": 97,
     "metadata": {},
     "output_type": "execute_result"
    }
   ],
   "source": [
    "p1.intersection(p2)"
   ]
  },
  {
   "cell_type": "markdown",
   "id": "91a0ac01",
   "metadata": {},
   "source": [
    "# intersection_update"
   ]
  },
  {
   "cell_type": "code",
   "execution_count": 98,
   "id": "efe193a6",
   "metadata": {},
   "outputs": [
    {
     "data": {
      "text/plain": [
       "{1, 2, 3, 4, 5}"
      ]
     },
     "execution_count": 98,
     "metadata": {},
     "output_type": "execute_result"
    }
   ],
   "source": [
    "p1"
   ]
  },
  {
   "cell_type": "code",
   "execution_count": 99,
   "id": "7c3e18cb",
   "metadata": {},
   "outputs": [
    {
     "data": {
      "text/plain": [
       "{2, 4, 6, 9, 10}"
      ]
     },
     "execution_count": 99,
     "metadata": {},
     "output_type": "execute_result"
    }
   ],
   "source": [
    "p2"
   ]
  },
  {
   "cell_type": "code",
   "execution_count": 100,
   "id": "5d73c2ad",
   "metadata": {},
   "outputs": [],
   "source": [
    "p1.intersection_update(p2)"
   ]
  },
  {
   "cell_type": "code",
   "execution_count": 101,
   "id": "7afe232e",
   "metadata": {},
   "outputs": [
    {
     "data": {
      "text/plain": [
       "{2, 4}"
      ]
     },
     "execution_count": 101,
     "metadata": {},
     "output_type": "execute_result"
    }
   ],
   "source": [
    "p1"
   ]
  },
  {
   "cell_type": "markdown",
   "id": "b45bb158",
   "metadata": {},
   "source": [
    "difference between (difference and difference_update) and (intersection and intersection_update) \n",
    "\n",
    "we can find the element which are #not common in 2 variable in difference and in difference_update we may update one of the two variables with resultant difference elements whereas, in intersection we can find the element which are #common in 2 variable in intersection code and in intersection_update we may update one of the two variables with the resultant intersection elements."
   ]
  },
  {
   "cell_type": "markdown",
   "id": "2c650958",
   "metadata": {},
   "source": [
    "14.Create two sets and then write a program to find the elements of set1 that is not present in set2?"
   ]
  },
  {
   "cell_type": "code",
   "execution_count": 106,
   "id": "120b2aca",
   "metadata": {},
   "outputs": [],
   "source": [
    "p1={2,6,8,10,12}"
   ]
  },
  {
   "cell_type": "code",
   "execution_count": 107,
   "id": "c8655c7e",
   "metadata": {},
   "outputs": [
    {
     "data": {
      "text/plain": [
       "{2, 6, 8, 10, 12}"
      ]
     },
     "execution_count": 107,
     "metadata": {},
     "output_type": "execute_result"
    }
   ],
   "source": [
    "p1"
   ]
  },
  {
   "cell_type": "code",
   "execution_count": 103,
   "id": "b4d679f4",
   "metadata": {},
   "outputs": [
    {
     "data": {
      "text/plain": [
       "{2, 4, 6, 9, 10}"
      ]
     },
     "execution_count": 103,
     "metadata": {},
     "output_type": "execute_result"
    }
   ],
   "source": [
    "p2"
   ]
  },
  {
   "cell_type": "code",
   "execution_count": 108,
   "id": "2421d9f2",
   "metadata": {},
   "outputs": [
    {
     "data": {
      "text/plain": [
       "{8, 12}"
      ]
     },
     "execution_count": 108,
     "metadata": {},
     "output_type": "execute_result"
    }
   ],
   "source": [
    "p1.difference(p2)"
   ]
  },
  {
   "cell_type": "markdown",
   "id": "fdbb3688",
   "metadata": {},
   "source": [
    "15. Create two sets and make sure that you have some common elements in both set and then write a program to remove the intersection of 2nd set items from set1?"
   ]
  },
  {
   "cell_type": "code",
   "execution_count": 109,
   "id": "c1c300f7",
   "metadata": {},
   "outputs": [
    {
     "data": {
      "text/plain": [
       "{2, 6, 8, 10, 12}"
      ]
     },
     "execution_count": 109,
     "metadata": {},
     "output_type": "execute_result"
    }
   ],
   "source": [
    "p1"
   ]
  },
  {
   "cell_type": "code",
   "execution_count": 110,
   "id": "bb7d1697",
   "metadata": {},
   "outputs": [
    {
     "data": {
      "text/plain": [
       "{2, 4, 6, 9, 10}"
      ]
     },
     "execution_count": 110,
     "metadata": {},
     "output_type": "execute_result"
    }
   ],
   "source": [
    "p2"
   ]
  },
  {
   "cell_type": "code",
   "execution_count": 111,
   "id": "a5c79cc4",
   "metadata": {},
   "outputs": [
    {
     "data": {
      "text/plain": [
       "{2, 6, 10}"
      ]
     },
     "execution_count": 111,
     "metadata": {},
     "output_type": "execute_result"
    }
   ],
   "source": [
    "p1.intersection(p2)"
   ]
  },
  {
   "cell_type": "markdown",
   "id": "5d251704",
   "metadata": {},
   "source": [
    "16. Create a dictionary and then write a Python code to add a new key value pair in that dictionary."
   ]
  },
  {
   "cell_type": "code",
   "execution_count": 112,
   "id": "54f07a5a",
   "metadata": {},
   "outputs": [],
   "source": [
    "dict={\"name\":\"aishwarya\", \"course\":\"PGP_DS\", \"phone\":65611}"
   ]
  },
  {
   "cell_type": "code",
   "execution_count": 113,
   "id": "0f2e5850",
   "metadata": {},
   "outputs": [
    {
     "data": {
      "text/plain": [
       "dict"
      ]
     },
     "execution_count": 113,
     "metadata": {},
     "output_type": "execute_result"
    }
   ],
   "source": [
    "type(dict)"
   ]
  },
  {
   "cell_type": "code",
   "execution_count": 118,
   "id": "776a6a9e",
   "metadata": {},
   "outputs": [],
   "source": [
    "dict.update({\"grade\":99})"
   ]
  },
  {
   "cell_type": "code",
   "execution_count": 119,
   "id": "9533180c",
   "metadata": {},
   "outputs": [
    {
     "data": {
      "text/plain": [
       "{'name': 'aishwarya', 'course': 'PGP_DS', 'phone': 65611, 'grade': 99}"
      ]
     },
     "execution_count": 119,
     "metadata": {},
     "output_type": "execute_result"
    }
   ],
   "source": [
    "dict"
   ]
  },
  {
   "cell_type": "markdown",
   "id": "2f61b0c4",
   "metadata": {},
   "source": [
    "17. Create two dictionaries and then write a Python code to merge two dictionaries?"
   ]
  },
  {
   "cell_type": "code",
   "execution_count": 120,
   "id": "23b7b53e",
   "metadata": {},
   "outputs": [
    {
     "data": {
      "text/plain": [
       "{'name': 'aishwarya', 'course': 'PGP_DS', 'phone': 65611, 'grade': 99}"
      ]
     },
     "execution_count": 120,
     "metadata": {},
     "output_type": "execute_result"
    }
   ],
   "source": [
    "dict"
   ]
  },
  {
   "cell_type": "code",
   "execution_count": 121,
   "id": "4bbad0c7",
   "metadata": {},
   "outputs": [],
   "source": [
    "dict2 ={\"fee\":2200, \"trainer code\":\"121\", \"placement\":\"hundred percentage\"}"
   ]
  },
  {
   "cell_type": "code",
   "execution_count": 122,
   "id": "b25c010c",
   "metadata": {},
   "outputs": [
    {
     "data": {
      "text/plain": [
       "{'fee': 2200, 'trainer code': '121', 'placement': 'hundred percentage'}"
      ]
     },
     "execution_count": 122,
     "metadata": {},
     "output_type": "execute_result"
    }
   ],
   "source": [
    "dict2"
   ]
  },
  {
   "cell_type": "code",
   "execution_count": 123,
   "id": "2415ecdd",
   "metadata": {},
   "outputs": [],
   "source": [
    "dict.update(dict2)"
   ]
  },
  {
   "cell_type": "code",
   "execution_count": 124,
   "id": "3be1e2ca",
   "metadata": {},
   "outputs": [
    {
     "data": {
      "text/plain": [
       "{'name': 'aishwarya',\n",
       " 'course': 'PGP_DS',\n",
       " 'phone': 65611,\n",
       " 'grade': 99,\n",
       " 'fee': 2200,\n",
       " 'trainer code': '121',\n",
       " 'placement': 'hundred percentage'}"
      ]
     },
     "execution_count": 124,
     "metadata": {},
     "output_type": "execute_result"
    }
   ],
   "source": [
    "dict"
   ]
  },
  {
   "cell_type": "markdown",
   "id": "e9c8e9d1",
   "metadata": {},
   "source": [
    "18. Write a program to check wether a number entered by the user if even or odd?"
   ]
  },
  {
   "cell_type": "code",
   "execution_count": 125,
   "id": "f40127db",
   "metadata": {},
   "outputs": [
    {
     "name": "stdout",
     "output_type": "stream",
     "text": [
      "please enter the number56\n",
      "even number\n"
     ]
    }
   ],
   "source": [
    "Result = int(input(\"please enter the number\"))\n",
    "if (Result%2==0):\n",
    "    print (\"even number\")\n",
    "else:\n",
    "    print(\"odd number\")"
   ]
  },
  {
   "cell_type": "code",
   "execution_count": 126,
   "id": "f2997aca",
   "metadata": {},
   "outputs": [
    {
     "name": "stdout",
     "output_type": "stream",
     "text": [
      "please enter the number93\n",
      "odd number\n"
     ]
    }
   ],
   "source": [
    "Result = int(input(\"please enter the number\"))\n",
    "if (Result%2==0):\n",
    "    print (\"even number\")\n",
    "else:\n",
    "    print(\"odd number\")"
   ]
  },
  {
   "cell_type": "markdown",
   "id": "e5f58ff8",
   "metadata": {},
   "source": [
    "19. Write a program to display “Hello” if a number entered by the user is a multiple of five, otherwise print “Bye”"
   ]
  },
  {
   "cell_type": "code",
   "execution_count": 127,
   "id": "95945970",
   "metadata": {},
   "outputs": [
    {
     "name": "stdout",
     "output_type": "stream",
     "text": [
      "please enter the number10\n",
      "hello\n"
     ]
    }
   ],
   "source": [
    "Result = int(input(\"please enter the number\"))\n",
    "if (Result%5==0):\n",
    "    print (\"hello\")\n",
    "else:\n",
    "    print (\"bye\")"
   ]
  },
  {
   "cell_type": "code",
   "execution_count": 128,
   "id": "eefa96f6",
   "metadata": {},
   "outputs": [
    {
     "name": "stdout",
     "output_type": "stream",
     "text": [
      "please enter the number6\n",
      "bye\n"
     ]
    }
   ],
   "source": [
    "Result = int(input(\"please enter the number\"))\n",
    "if (Result%5==0):\n",
    "    print (\"hello\")\n",
    "else:\n",
    "    print (\"bye\")"
   ]
  },
  {
   "cell_type": "markdown",
   "id": "f78a0209",
   "metadata": {},
   "source": [
    "20. Write a python program to accept the cost price of a bike and display the road tax paid according to the following criteria:\n",
    "Cost Price\t\t\tTax\n",
    ">1,00,000\t\t\t\t15%\n",
    "> 50,000 and <=100000\t10%\n",
    "<=50,000\t\t\t\t 5%\n"
   ]
  },
  {
   "cell_type": "code",
   "execution_count": 135,
   "id": "12119f80",
   "metadata": {},
   "outputs": [
    {
     "name": "stdout",
     "output_type": "stream",
     "text": [
      "Enter the price of bike1100000\n",
      "15%\n"
     ]
    }
   ],
   "source": [
    "RoadTaxPaid =int(input(\"Enter the price of bike\"))\n",
    "if (RoadTaxPaid >100000):\n",
    "    print (\"15%\")\n",
    "elif RoadTaxPaid >50000 and RoadTaxPaid <=100000:\n",
    "    print (\"10%\")\n",
    "else:\n",
    "    print (\"5%\")"
   ]
  },
  {
   "cell_type": "code",
   "execution_count": 137,
   "id": "58b27c94",
   "metadata": {},
   "outputs": [
    {
     "name": "stdout",
     "output_type": "stream",
     "text": [
      "Enter the price of bike55000\n",
      "10%\n"
     ]
    }
   ],
   "source": [
    "RoadTaxPaid =int(input(\"Enter the price of bike\"))\n",
    "if (RoadTaxPaid >100000):\n",
    "    print (\"15%\")\n",
    "elif RoadTaxPaid >50000 and RoadTaxPaid <=100000:\n",
    "    print (\"10%\")\n",
    "else:\n",
    "    print (\"5%\")"
   ]
  },
  {
   "cell_type": "code",
   "execution_count": 139,
   "id": "f075ba23",
   "metadata": {},
   "outputs": [
    {
     "name": "stdout",
     "output_type": "stream",
     "text": [
      "Enter the price of bike100000\n",
      "10%\n"
     ]
    }
   ],
   "source": [
    "RoadTaxPaid =int(input(\"Enter the price of bike\"))\n",
    "if (RoadTaxPaid >100000):\n",
    "    print (\"15%\")\n",
    "elif RoadTaxPaid >50000 and RoadTaxPaid <=100000:\n",
    "    print (\"10%\")\n",
    "else:\n",
    "    print (\"5%\")"
   ]
  },
  {
   "cell_type": "code",
   "execution_count": 140,
   "id": "2b582df8",
   "metadata": {},
   "outputs": [
    {
     "name": "stdout",
     "output_type": "stream",
     "text": [
      "Enter the price of bike25000\n",
      "5%\n"
     ]
    }
   ],
   "source": [
    "RoadTaxPaid =int(input(\"Enter the price of bike\"))\n",
    "if (RoadTaxPaid >100000):\n",
    "    print (\"15%\")\n",
    "elif RoadTaxPaid >50000 and RoadTaxPaid <=100000:\n",
    "    print (\"10%\")\n",
    "else:\n",
    "    print (\"5%\")"
   ]
  },
  {
   "cell_type": "markdown",
   "id": "f0e50d14",
   "metadata": {},
   "source": [
    "21. Write a program to check wether a number entered by the user is a three digit number or not?"
   ]
  },
  {
   "cell_type": "code",
   "execution_count": 144,
   "id": "614da782",
   "metadata": {},
   "outputs": [
    {
     "name": "stdout",
     "output_type": "stream",
     "text": [
      "Please enter your favorite number101\n",
      "you are in good mood\n"
     ]
    }
   ],
   "source": [
    "Mindmeter = int(input(\"Please enter your favorite number\"))\n",
    "if Mindmeter >=100:\n",
    "    print (\"you are in good mood\")\n",
    "else:\n",
    "    print(\"you need medical assistance\")"
   ]
  },
  {
   "cell_type": "code",
   "execution_count": 1,
   "id": "4844474b",
   "metadata": {},
   "outputs": [
    {
     "name": "stdout",
     "output_type": "stream",
     "text": [
      "Please enter your favorite number89\n",
      "you need medical assistance\n"
     ]
    }
   ],
   "source": [
    "Mindmeter = int(input(\"Please enter your favorite number\"))\n",
    "if Mindmeter >=100:\n",
    "    print (\"you are in good mood\")\n",
    "else:\n",
    "    print(\"you need medical assistance\")"
   ]
  },
  {
   "cell_type": "markdown",
   "id": "aaf40ec5",
   "metadata": {},
   "source": [
    "22. Write a program to check wether a number (accepted from user) is divisible by 2 and 3 both?"
   ]
  },
  {
   "cell_type": "code",
   "execution_count": 3,
   "id": "5fc42bfd",
   "metadata": {},
   "outputs": [
    {
     "name": "stdout",
     "output_type": "stream",
     "text": [
      "please enter the total salary:15\n",
      "EMI need to be closed\n"
     ]
    }
   ],
   "source": [
    "Share_amount = int(input(\"please enter the total salary:\"))\n",
    "if Share_amount%2==0 and Share_amount%3==0:\n",
    "    print (\"EMI closed\")\n",
    "else:\n",
    "    print (\"EMI need to be closed\")"
   ]
  },
  {
   "cell_type": "code",
   "execution_count": 4,
   "id": "6db150de",
   "metadata": {},
   "outputs": [
    {
     "name": "stdout",
     "output_type": "stream",
     "text": [
      "please enter the total salary: 6\n",
      "EMI closed\n"
     ]
    }
   ],
   "source": [
    "Share_amount = int(input(\"please enter the total salary: \"))\n",
    "if Share_amount%2==0 and Share_amount%3==0:\n",
    "    print (\"EMI closed\")\n",
    "else:\n",
    "    print (\"EMI need to be closed\")"
   ]
  },
  {
   "cell_type": "markdown",
   "id": "007886fd",
   "metadata": {},
   "source": [
    "23. Write a program to check if a character entered by any user is a vowel or not"
   ]
  },
  {
   "cell_type": "code",
   "execution_count": 14,
   "id": "653fb545",
   "metadata": {
    "scrolled": true
   },
   "outputs": [
    {
     "name": "stdout",
     "output_type": "stream",
     "text": [
      "enter phoenetic word: a\n",
      "is a vowel\n"
     ]
    }
   ],
   "source": [
    "Vowel = input(\"enter phoenetic word: \")\n",
    "if Vowel == \"a\":\n",
    "    print (\"is a vowel\")\n",
    "elif Vowel == \"e\":\n",
    "    print (\"is a vowel\")\n",
    "elif Vowel == \"i\":\n",
    "    print (\"is a vowel\")\n",
    "elif Vowel == \"o\":\n",
    "    print (\"is a vowel\")\n",
    "elif Vowel == \"u\":\n",
    "    print (\"is a vowel\")\n",
    "else:\n",
    "    print (\"is not a vowel\")"
   ]
  },
  {
   "cell_type": "code",
   "execution_count": 13,
   "id": "62c3e52c",
   "metadata": {},
   "outputs": [
    {
     "name": "stdout",
     "output_type": "stream",
     "text": [
      "enter phoenetic word: d\n",
      "is not a vowel\n"
     ]
    }
   ],
   "source": [
    "Vowel = input(\"enter phoenetic word: \")\n",
    "if Vowel == \"a\":\n",
    "    print (\"is a vowel\")\n",
    "elif Vowel == \"e\":\n",
    "    print (\"is a vowel\")\n",
    "elif Vowel == \"i\":\n",
    "    print (\"is a vowel\")\n",
    "elif Vowel == \"o\":\n",
    "    print (\"is a vowel\")\n",
    "elif Vowel == \"u\":\n",
    "    print (\"is a vowel\")\n",
    "else:\n",
    "    print (\"is not a vowel\")"
   ]
  },
  {
   "cell_type": "markdown",
   "id": "77b0c2f6",
   "metadata": {},
   "source": [
    "24. A company decides to give bonus to employee according to the following criteria:\n",
    "Time period of service \t\t\t\t\t\tBonus\n",
    "More than 10 years\t\t\t\t\t\t\t10%\n",
    ">=6 and <=10\t\t\t\t\t\t\t\t8%\n",
    "Less than 6 years\t\t\t\t\t\t\t5%\n",
    "\n",
    "Ask user their salary and years of service and print the net bonus amount."
   ]
  },
  {
   "cell_type": "code",
   "execution_count": 16,
   "id": "7b4008c7",
   "metadata": {},
   "outputs": [
    {
     "name": "stdout",
     "output_type": "stream",
     "text": [
      "please enter your salary: 20000\n",
      "please enter your service period: years5\n",
      "bonus 5%\n"
     ]
    }
   ],
   "source": [
    "Salary = int(input(\"please enter your salary: \"))\n",
    "Experience = int(input(\"please enter your service period: years\"))\n",
    "if Experience >10:\n",
    "    print (\"bonus 10%\")\n",
    "elif Experience >=6 and Experience <=10:\n",
    "    print (\"bonus 8%\")\n",
    "else:\n",
    "    print (\"bonus 5%\")"
   ]
  },
  {
   "cell_type": "code",
   "execution_count": 17,
   "id": "2754c9bc",
   "metadata": {},
   "outputs": [
    {
     "name": "stdout",
     "output_type": "stream",
     "text": [
      "please enter your salary: 60000\n",
      "please enter your service period: years20\n",
      "bonus 10%\n"
     ]
    }
   ],
   "source": [
    "Salary = int(input(\"please enter your salary: \"))\n",
    "Experience = int(input(\"please enter your service period: years\"))\n",
    "if Experience >10:\n",
    "    print (\"bonus 10%\")\n",
    "elif Experience >=6 and Experience <=10:\n",
    "    print (\"bonus 8%\")\n",
    "else:\n",
    "    print (\"bonus 5%\")"
   ]
  },
  {
   "cell_type": "markdown",
   "id": "e5e6f591",
   "metadata": {},
   "source": [
    "25. Accept three sides of a triangle from the user and check wether it is equilateral, isosceles or scalene triangle. \n",
    "\n",
    "An equilateral triangle  is a triangle in which all three sides are equal .\n",
    "\n",
    "A scalene triangle is a triangle that has three unequal sides. \n",
    "\n",
    "An isosceles triangle is a triangle with at least two equal sides."
   ]
  },
  {
   "cell_type": "code",
   "execution_count": 1,
   "id": "6bd5e86c",
   "metadata": {},
   "outputs": [
    {
     "name": "stdout",
     "output_type": "stream",
     "text": [
      "Please enter the length of side1: 10\n",
      "Please enter the length of side2: 10\n",
      "Please enter the length of side3: 10\n",
      "It is equilateral triangle\n"
     ]
    }
   ],
   "source": [
    "Side_1 = int(input(\"Please enter the length of side1: \"))\n",
    "Side_2 = int(input(\"Please enter the length of side2: \"))\n",
    "Side_3 = int(input(\"Please enter the length of side3: \"))\n",
    "if Side_1 == Side_2 ==Side_3:\n",
    "    print (\"It is equilateral triangle\")\n",
    "elif Side_1 != Side_2 != Side_3:\n",
    "    print (\"It is scalene triangle\")\n",
    "elif Side_1 == Side_2 and Side_1 !=Side_3:\n",
    "    print (\"It is isosceless triangle\")\n",
    "elif Side_2 == Side_3 and Side_2 != Side_1:\n",
    "    print (\"It is isoceless triangle\")"
   ]
  },
  {
   "cell_type": "code",
   "execution_count": 2,
   "id": "2f265262",
   "metadata": {},
   "outputs": [
    {
     "name": "stdout",
     "output_type": "stream",
     "text": [
      "Please enter the length of side1: 12\n",
      "Please enter the length of side2: 13\n",
      "Please enter the length of side3: 18\n",
      "It is scalene triangle\n"
     ]
    }
   ],
   "source": [
    "Side_1 = int(input(\"Please enter the length of side1: \"))\n",
    "Side_2 = int(input(\"Please enter the length of side2: \"))\n",
    "Side_3 = int(input(\"Please enter the length of side3: \"))\n",
    "if Side_1 == Side_2 ==Side_3:\n",
    "    print (\"It is equilateral triangle\")\n",
    "elif Side_1 != Side_2 != Side_3:\n",
    "    print (\"It is scalene triangle\")\n",
    "elif Side_1 == Side_2 and Side_1 !=Side_3:\n",
    "    print (\"It is isosceless triangle\")\n",
    "elif Side_2 == Side_3 and Side_2 != Side_1:\n",
    "    print (\"It is isoceless triangle\")"
   ]
  },
  {
   "cell_type": "code",
   "execution_count": 3,
   "id": "ad78ca1b",
   "metadata": {},
   "outputs": [
    {
     "name": "stdout",
     "output_type": "stream",
     "text": [
      "Please enter the length of side1: 20\n",
      "Please enter the length of side2: 20\n",
      "Please enter the length of side3: 22\n",
      "It is isosceless triangle\n"
     ]
    }
   ],
   "source": [
    "Side_1 = int(input(\"Please enter the length of side1: \"))\n",
    "Side_2 = int(input(\"Please enter the length of side2: \"))\n",
    "Side_3 = int(input(\"Please enter the length of side3: \"))\n",
    "if Side_1 == Side_2 ==Side_3:\n",
    "    print (\"It is equilateral triangle\")\n",
    "elif Side_1 != Side_2 != Side_3:\n",
    "    print (\"It is scalene triangle\")\n",
    "elif Side_1 == Side_2 and Side_1 !=Side_3:\n",
    "    print (\"It is isosceless triangle\")\n",
    "elif Side_2 == Side_3 and Side_2 != Side_1:\n",
    "    print (\"It is isoceless triangle\")"
   ]
  },
  {
   "cell_type": "code",
   "execution_count": 4,
   "id": "988aa55a",
   "metadata": {},
   "outputs": [
    {
     "name": "stdout",
     "output_type": "stream",
     "text": [
      "Please enter the length of side1: 6\n",
      "Please enter the length of side2: 8\n",
      "Please enter the length of side3: 8\n",
      "It is isoceless triangle\n"
     ]
    }
   ],
   "source": [
    "Side_1 = int(input(\"Please enter the length of side1: \"))\n",
    "Side_2 = int(input(\"Please enter the length of side2: \"))\n",
    "Side_3 = int(input(\"Please enter the length of side3: \"))\n",
    "if Side_1 == Side_2 ==Side_3:\n",
    "    print (\"It is equilateral triangle\")\n",
    "elif Side_1 != Side_2 != Side_3:\n",
    "    print (\"It is scalene triangle\")\n",
    "elif Side_1 == Side_2 and Side_1 !=Side_3:\n",
    "    print (\"It is isosceless triangle\")\n",
    "elif Side_2 == Side_3 and Side_2 != Side_1:\n",
    "    print (\"It is isoceless triangle\")"
   ]
  },
  {
   "cell_type": "markdown",
   "id": "2c18e1c3",
   "metadata": {},
   "source": [
    "26. Write a program to accept two numbers and a mathematical operators and perform operation accordingly."
   ]
  },
  {
   "cell_type": "code",
   "execution_count": 1,
   "id": "2938a859",
   "metadata": {},
   "outputs": [
    {
     "name": "stdout",
     "output_type": "stream",
     "text": [
      "axb_yield per acre: kg3500\n",
      "axc_yield per acre: kg5600\n",
      "axc perform better than axb\n"
     ]
    }
   ],
   "source": [
    "axb = int(input(\"axb_yield per acre: kg\"))\n",
    "axc = int(input(\"axc_yield per acre: kg\"))\n",
    "if axb > axc:\n",
    "    print (\"axb perform better than axc\")\n",
    "elif axc > axb:\n",
    "    print (\"axc perform better than axb\")"
   ]
  },
  {
   "cell_type": "code",
   "execution_count": 2,
   "id": "a3f81c9b",
   "metadata": {},
   "outputs": [
    {
     "name": "stdout",
     "output_type": "stream",
     "text": [
      "axb_yield per acre: kg5000\n",
      "axc_yield per acre: kg4999\n",
      "axb perform better than axc\n"
     ]
    }
   ],
   "source": [
    "axb = int(input(\"axb_yield per acre: kg\"))\n",
    "axc = int(input(\"axc_yield per acre: kg\"))\n",
    "if axb > axc:\n",
    "    print (\"axb perform better than axc\")\n",
    "elif axc > axb:\n",
    "    print (\"axc perform better than axb\")"
   ]
  }
 ],
 "metadata": {
  "kernelspec": {
   "display_name": "Python 3 (ipykernel)",
   "language": "python",
   "name": "python3"
  },
  "language_info": {
   "codemirror_mode": {
    "name": "ipython",
    "version": 3
   },
   "file_extension": ".py",
   "mimetype": "text/x-python",
   "name": "python",
   "nbconvert_exporter": "python",
   "pygments_lexer": "ipython3",
   "version": "3.9.7"
  }
 },
 "nbformat": 4,
 "nbformat_minor": 5
}
